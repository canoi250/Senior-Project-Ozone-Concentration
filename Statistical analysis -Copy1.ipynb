{
 "cells": [
  {
   "cell_type": "code",
   "execution_count": null,
   "id": "a53ff436",
   "metadata": {},
   "outputs": [],
   "source": [
    "import pandas as pd\n",
    "import requests\n",
    "import matplotlib.pyplot as plt\n",
    "import numpy as np \n",
    "from statsmodels.tsa.arima.model import ARIMA"
   ]
  },
  {
   "cell_type": "code",
   "execution_count": null,
   "id": "db76e771",
   "metadata": {},
   "outputs": [],
   "source": [
    "#define a variable Link1 that contains a URL to an API endpoint for extracting daily air quality data for Barnstable county in Massachusetts, USA, for ozone from January to December 2018.\n",
    "Link1 = \"https://aqs.epa.gov/data/api/dailyData/byCounty?email=canoi@whitman.edu&key=goldmallard38&param=44201&bdate=20160101&edate=20161231&state=25&county=001\""
   ]
  },
  {
   "cell_type": "code",
   "execution_count": null,
   "id": "d59b6c4c",
   "metadata": {},
   "outputs": [],
   "source": [
    "#Parses the response content as JSON using the json() method of the response object, and assigns the resulting JSON data to a variable json_data1.\n",
    "r1=requests.get(url=Link1)\n",
    "json_data1=r1.json()\n",
    "json_data1"
   ]
  },
  {
   "cell_type": "code",
   "execution_count": null,
   "id": "29ac62e0",
   "metadata": {},
   "outputs": [],
   "source": [
    "#We write the contents of the CSV file \"output.csv\" into a pandas DataFrame named df1.\n",
    "df1 = pd.json_normalize(json_data1[\"Data\"])\n",
    "df1.to_csv(\"output.csv\", index=False)\n",
    "df1"
   ]
  },
  {
   "cell_type": "code",
   "execution_count": null,
   "id": "7a9cd240",
   "metadata": {},
   "outputs": [],
   "source": [
    "# Create a new dataframe with the two variables date_local and arithmentic mean. \n",
    "new_df1=df1.loc[:,[\"date_local\", \"arithmetic_mean\"]]\n",
    "new_df1"
   ]
  },
  {
   "cell_type": "markdown",
   "id": "dd14e2d4",
   "metadata": {},
   "source": [
    "Repeat the same process for ozone data in Barnstable county during 2017"
   ]
  },
  {
   "cell_type": "code",
   "execution_count": null,
   "id": "b143200e",
   "metadata": {},
   "outputs": [],
   "source": [
    "Link2 = \"https://aqs.epa.gov/data/api/dailyData/byCounty?email=canoi@whitman.edu&key=goldmallard38&param=44201&bdate=20170101&edate=20171231&state=25&county=001\""
   ]
  },
  {
   "cell_type": "code",
   "execution_count": null,
   "id": "0a3f143e",
   "metadata": {},
   "outputs": [],
   "source": [
    "r2=requests.get(url=Link2)"
   ]
  },
  {
   "cell_type": "code",
   "execution_count": null,
   "id": "53aa698f",
   "metadata": {},
   "outputs": [],
   "source": [
    "json_data2=r2.json()\n",
    "json_data2"
   ]
  },
  {
   "cell_type": "code",
   "execution_count": null,
   "id": "941d9d35",
   "metadata": {},
   "outputs": [],
   "source": [
    "df2 = pd.json_normalize(json_data2[\"Data\"])\n",
    "df2.to_csv(\"output.csv\", index=False)\n",
    "df2"
   ]
  },
  {
   "cell_type": "code",
   "execution_count": null,
   "id": "23cc9f99",
   "metadata": {},
   "outputs": [],
   "source": [
    "new_df2=df1.loc[:,[\"date_local\", \"arithmetic_mean\"]]\n",
    "new_df2"
   ]
  },
  {
   "cell_type": "markdown",
   "id": "6a1c38ca",
   "metadata": {},
   "source": [
    "Repeat the same process for ozone data in Barnstable county during 2018"
   ]
  },
  {
   "cell_type": "code",
   "execution_count": null,
   "id": "40cb766a",
   "metadata": {},
   "outputs": [],
   "source": [
    "Link3 = \"https://aqs.epa.gov/data/api/dailyData/byCounty?email=canoi@whitman.edu&key=goldmallard38&param=44201&bdate=20180101&edate=20181231&state=25&county=001\""
   ]
  },
  {
   "cell_type": "code",
   "execution_count": null,
   "id": "b503b6ba",
   "metadata": {},
   "outputs": [],
   "source": [
    "r3=requests.get(url=Link3)"
   ]
  },
  {
   "cell_type": "code",
   "execution_count": null,
   "id": "4da5561a",
   "metadata": {},
   "outputs": [],
   "source": [
    "json_data3= r3.json()\n",
    "json_data3"
   ]
  },
  {
   "cell_type": "code",
   "execution_count": null,
   "id": "acf98b2a",
   "metadata": {},
   "outputs": [],
   "source": [
    "df3 = pd.json_normalize(json_data3[\"Data\"])\n",
    "df3.to_csv(\"output.csv\", index=False)\n",
    "df3"
   ]
  },
  {
   "cell_type": "code",
   "execution_count": null,
   "id": "aeed997f",
   "metadata": {},
   "outputs": [],
   "source": [
    "new_df3=df1.loc[:,[\"date_local\", \"arithmetic_mean\"]]\n",
    "new_df3"
   ]
  },
  {
   "cell_type": "markdown",
   "id": "4d6517d5",
   "metadata": {},
   "source": [
    "Repeat the same process for ozone data in Barnstable county during 2019"
   ]
  },
  {
   "cell_type": "code",
   "execution_count": null,
   "id": "6a4b821b",
   "metadata": {},
   "outputs": [],
   "source": [
    "Link4 = \"https://aqs.epa.gov/data/api/dailyData/byCounty?email=canoi@whitman.edu&key=goldmallard38&param=44201&bdate=20190101&edate=20191231&state=25&county=001\""
   ]
  },
  {
   "cell_type": "code",
   "execution_count": null,
   "id": "0d31aebc",
   "metadata": {},
   "outputs": [],
   "source": [
    "r4=requests.get(url=Link4)"
   ]
  },
  {
   "cell_type": "code",
   "execution_count": null,
   "id": "80dfc93e",
   "metadata": {},
   "outputs": [],
   "source": [
    "json_data4=r4.json()"
   ]
  },
  {
   "cell_type": "code",
   "execution_count": null,
   "id": "22609cb6",
   "metadata": {},
   "outputs": [],
   "source": [
    "df4 = pd.json_normalize(json_data4[\"Data\"])\n",
    "df4.to_csv(\"output.csv\", index=False)\n",
    "df4"
   ]
  },
  {
   "cell_type": "code",
   "execution_count": null,
   "id": "468c0bf6",
   "metadata": {},
   "outputs": [],
   "source": [
    "new_df4=df1.loc[:,[\"date_local\", \"arithmetic_mean\"]]\n",
    "new_df4"
   ]
  },
  {
   "cell_type": "markdown",
   "id": "667ade15",
   "metadata": {},
   "source": [
    "Repeat the same process for ozone data in Barnstable county during 2020"
   ]
  },
  {
   "cell_type": "code",
   "execution_count": null,
   "id": "2c37e0f4",
   "metadata": {},
   "outputs": [],
   "source": [
    "Link5 = \"https://aqs.epa.gov/data/api/dailyData/byCounty?email=canoi@whitman.edu&key=goldmallard38&param=44201&bdate=20200101&edate=20201231&state=25&county=001\""
   ]
  },
  {
   "cell_type": "code",
   "execution_count": null,
   "id": "eb5a3a59",
   "metadata": {},
   "outputs": [],
   "source": [
    "r5=requests.get(url=Link5)"
   ]
  },
  {
   "cell_type": "code",
   "execution_count": null,
   "id": "71807d6c",
   "metadata": {},
   "outputs": [],
   "source": [
    "r5.json()\n",
    "json_data5 =r5.json()"
   ]
  },
  {
   "cell_type": "code",
   "execution_count": null,
   "id": "edecc257",
   "metadata": {},
   "outputs": [],
   "source": [
    "df5 = pd.json_normalize(json_data5[\"Data\"])\n",
    "df5.to_csv(\"output.csv\", index=False)\n",
    "df5"
   ]
  },
  {
   "cell_type": "code",
   "execution_count": null,
   "id": "ab131967",
   "metadata": {},
   "outputs": [],
   "source": [
    "new_df5=df5.loc[:,[\"date_local\", \"arithmetic_mean\"]]\n",
    "new_df5"
   ]
  },
  {
   "cell_type": "markdown",
   "id": "5da8aead",
   "metadata": {},
   "source": [
    "Repeat the same process for ozone data in Barnstable county during 2021"
   ]
  },
  {
   "cell_type": "code",
   "execution_count": null,
   "id": "0bd37962",
   "metadata": {},
   "outputs": [],
   "source": [
    "Link6 = \"https://aqs.epa.gov/data/api/dailyData/byCounty?email=canoi@whitman.edu&key=goldmallard38&param=44201&bdate=20210101&edate=20211231&state=25&county=001\""
   ]
  },
  {
   "cell_type": "code",
   "execution_count": null,
   "id": "6f2bcef4",
   "metadata": {},
   "outputs": [],
   "source": [
    "r6=requests.get(url=Link6)"
   ]
  },
  {
   "cell_type": "code",
   "execution_count": null,
   "id": "fee5b41c",
   "metadata": {},
   "outputs": [],
   "source": [
    "json_data6=r6.json()"
   ]
  },
  {
   "cell_type": "code",
   "execution_count": null,
   "id": "8a2887ab",
   "metadata": {},
   "outputs": [],
   "source": [
    "df6 = pd.json_normalize(json_data6[\"Data\"])\n",
    "df6.to_csv(\"output.csv\", index=False)\n",
    "df6"
   ]
  },
  {
   "cell_type": "code",
   "execution_count": null,
   "id": "56459d61",
   "metadata": {},
   "outputs": [],
   "source": [
    "new_df6=df6.loc[:,[\"date_local\", \"arithmetic_mean\"]]\n",
    "new_df6"
   ]
  },
  {
   "cell_type": "code",
   "execution_count": null,
   "id": "9dfbd340",
   "metadata": {},
   "outputs": [],
   "source": [
    "Link7 = \"https://aqs.epa.gov/data/api/dailyData/byCounty?email=canoi@whitman.edu&key=goldmallard38&param=44201&bdate=20220101&edate=20220831&state=25&county=001\""
   ]
  },
  {
   "cell_type": "markdown",
   "id": "63c2665c",
   "metadata": {},
   "source": [
    "Repeat the same process for ozone data in Barnstable county during 2022"
   ]
  },
  {
   "cell_type": "code",
   "execution_count": null,
   "id": "08618cd0",
   "metadata": {},
   "outputs": [],
   "source": [
    "r7=requests.get(url=Link7)"
   ]
  },
  {
   "cell_type": "code",
   "execution_count": null,
   "id": "7bae2498",
   "metadata": {},
   "outputs": [],
   "source": [
    "json_data7=r7.json()"
   ]
  },
  {
   "cell_type": "code",
   "execution_count": null,
   "id": "11c40387",
   "metadata": {},
   "outputs": [],
   "source": [
    "df7 = pd.json_normalize(json_data7[\"Data\"])\n",
    "df7.to_csv(\"output.csv\", index=False)\n",
    "df7"
   ]
  },
  {
   "cell_type": "code",
   "execution_count": null,
   "id": "60188101",
   "metadata": {},
   "outputs": [],
   "source": [
    "new_df7=df7.loc[:,[\"date_local\", \"arithmetic_mean\"]]\n",
    "new_df7"
   ]
  },
  {
   "cell_type": "markdown",
   "id": "2b09c51c",
   "metadata": {},
   "source": [
    "Concatenate the data frames in order to create an ozone dataset for Barnstable county from 2016 up to 2022. "
   ]
  },
  {
   "cell_type": "code",
   "execution_count": null,
   "id": "00c4cab5",
   "metadata": {},
   "outputs": [],
   "source": [
    "result = pd.concat([new_df1, new_df2, new_df3, new_df4, new_df5, new_df6, new_df7])"
   ]
  },
  {
   "cell_type": "code",
   "execution_count": null,
   "id": "97168900",
   "metadata": {},
   "outputs": [],
   "source": [
    "result"
   ]
  },
  {
   "cell_type": "markdown",
   "id": "3e08ae6b",
   "metadata": {},
   "source": [
    "Create a scatter plot with time series data using the result dataframe. "
   ]
  },
  {
   "cell_type": "code",
   "execution_count": null,
   "id": "16217362",
   "metadata": {},
   "outputs": [],
   "source": [
    "x = result['date_local']\n",
    "y = result['arithmetic_mean']"
   ]
  },
  {
   "cell_type": "code",
   "execution_count": null,
   "id": "1e821d18",
   "metadata": {},
   "outputs": [],
   "source": [
    "fig=plt.figure()\n",
    "plt.close(fig)\n",
    "plt.figure(figsize = (20,5))\n",
    "plt.xlabel('Date')\n",
    "plt.ylabel('Ozone concentration (ppm)', fontsize=16)\n",
    "plt.title('Ozone Concentration In Barnstable County, MA from 2106-2022', fontsize=16)\n",
    "plt.scatter(x, y)"
   ]
  },
  {
   "cell_type": "code",
   "execution_count": null,
   "id": "a917a07f",
   "metadata": {},
   "outputs": [],
   "source": [
    "#Create a new dataframe with the mean ozone value for every date. \n",
    "new_result=result.loc[:,[\"date_local\", \"arithmetic_mean\"]]\n",
    "new_result"
   ]
  },
  {
   "cell_type": "code",
   "execution_count": null,
   "id": "7f87eb8a",
   "metadata": {},
   "outputs": [],
   "source": [
    "result_mean = new_result.groupby(\"date_local\")[\"arithmetic_mean\"].mean()\n",
    "result_mean.to_csv('result_mean.csv')\n",
    "df = pd.read_csv('result_mean.csv').reset_index()\n",
    "df"
   ]
  },
  {
   "cell_type": "code",
   "execution_count": null,
   "id": "5afba5c9",
   "metadata": {},
   "outputs": [],
   "source": [
    "new_df=df.loc[:,[\"index\", \"arithmetic_mean\"]]\n",
    "new_df"
   ]
  },
  {
   "cell_type": "markdown",
   "id": "9d24060b",
   "metadata": {},
   "source": [
    "Run ARIMA model for the new_df dataframe and forecast data using the ARIMA model (1,0,0) "
   ]
  },
  {
   "cell_type": "code",
   "execution_count": null,
   "id": "6996b3db",
   "metadata": {},
   "outputs": [],
   "source": [
    "model3 = ARIMA(new_df[\"arithmetic_mean\"], order=(1, 0, 0))\n",
    "model_fit3 = model3.fit()\n",
    "\n",
    "print(model_fit3.summary())"
   ]
  }
 ],
 "metadata": {
  "kernelspec": {
   "display_name": "Python 3 (ipykernel)",
   "language": "python",
   "name": "python3"
  },
  "language_info": {
   "codemirror_mode": {
    "name": "ipython",
    "version": 3
   },
   "file_extension": ".py",
   "mimetype": "text/x-python",
   "name": "python",
   "nbconvert_exporter": "python",
   "pygments_lexer": "ipython3",
   "version": "3.9.13"
  }
 },
 "nbformat": 4,
 "nbformat_minor": 5
}
