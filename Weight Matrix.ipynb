{
 "cells": [
  {
   "cell_type": "code",
   "execution_count": 1,
   "id": "3a5f8e5f",
   "metadata": {},
   "outputs": [],
   "source": [
    "from geopy.distance import geodesic"
   ]
  },
  {
   "cell_type": "markdown",
   "id": "10fee2a9",
   "metadata": {},
   "source": [
    "Write the geographical coordinates of all observation centers in Massachussetts. Find the geodesic distance between the first observation center and all the other ones. "
   ]
  },
  {
   "cell_type": "code",
   "execution_count": 2,
   "id": "d720ba7f",
   "metadata": {
    "collapsed": true
   },
   "outputs": [
    {
     "name": "stdout",
     "output_type": "stream",
     "text": [
      "0.0\n",
      "270.76242559916284\n",
      "100.4736006793087\n",
      "95.7191549901448\n",
      "95.84020667664892\n",
      "223.43916359361458\n",
      "210.85252170837376\n",
      "194.34073751488654\n",
      "127.26572680959583\n",
      "208.5056978630198\n",
      "93.9353184702999\n",
      "82.47249420505865\n",
      "94.6025143191769\n",
      "156.6768147109505\n"
     ]
    }
   ],
   "source": [
    "#1 horizontal\n",
    "#1. Barnstable County\n",
    "lat1 = 41.975804\n",
    "lon1 = -70.023598\n",
    "# 2.Berkshire County\n",
    "lat2 = 42.452299\n",
    "lon2 = -73.239648\n",
    "# 3. Bristol County\n",
    "lat3 = 41.685707\n",
    "lon3 = -71.169235\n",
    "# 4. Dukes County\n",
    "lat4 = 41.330469\n",
    "lon4 = -70.785225\n",
    "# 5. Essex County\n",
    "lat5 = 42.474642\n",
    "lon5 = -70.970816\n",
    "# 6. Franklin County\n",
    "lat6 =  42.605816\n",
    "lon6 = -72.596689\n",
    "# 7. Hampden County\n",
    "lat7 = 42.19438\n",
    "lon7 = -72.555112\n",
    "# 8. Hampshire County\n",
    "lat8 = 42.298493\n",
    "lon8 = -72.334079\n",
    "# 9. Middlesex County\n",
    "lat9 = 42.612085\n",
    "lon9 = -71.306986\n",
    "# 10. Nantucket County\n",
    "lat10 = 41.255824\n",
    "lon10 = -72.334079\n",
    "# 11. Norfolk County\n",
    "lat11 = 42.211774\n",
    "lon11 = -71.11397\n",
    "# 12. Plymouth County\n",
    "lat12 = 42.065106\n",
    "lon12 = -71.012129\n",
    "# Suffolk County\n",
    "lat13 = 42.298493\n",
    "lon13 = -71.0826\n",
    "# Worcester County\n",
    "lat14 = 42.274319\n",
    "lon14 = -71.875511\n",
    "distance0 = geodesic((lat1, lon1), (lat1, lon1)).km\n",
    "distance1 = geodesic((lat1, lon1), (lat2, lon2)).km\n",
    "distance2 = geodesic((lat1, lon1), (lat3, lon3)).km\n",
    "distance3 = geodesic((lat1, lon1), (lat4, lon4)).km\n",
    "distance4 = geodesic((lat1, lon1), (lat5, lon5)).km\n",
    "distance5 = geodesic((lat1, lon1), (lat6, lon6)).km\n",
    "distance6 = geodesic((lat1, lon1), (lat7, lon7)).km\n",
    "distance7 = geodesic((lat1, lon1), (lat8, lon8)).km\n",
    "distance8 = geodesic((lat1, lon1), (lat9, lon9)).km\n",
    "distance9 = geodesic((lat1, lon1), (lat10, lon10)).km\n",
    "distance10 = geodesic((lat1, lon1), (lat11, lon11)).km\n",
    "distance11 = geodesic((lat1, lon1), (lat12, lon12)).km\n",
    "distance12 = geodesic((lat1, lon1), (lat13, lon13)).km\n",
    "distance13 = geodesic((lat1, lon1), (lat14, lon14)).km\n",
    "print(distance0)\n",
    "print(distance1) \n",
    "print(distance2)\n",
    "print(distance3) \n",
    "print(distance4) \n",
    "print(distance5)\n",
    "print(distance6)\n",
    "print(distance7) \n",
    "print(distance8) \n",
    "print(distance9)\n",
    "print(distance10)\n",
    "print(distance11)\n",
    "print(distance12)\n",
    "print(distance13)"
   ]
  },
  {
   "cell_type": "markdown",
   "id": "0f5b6383",
   "metadata": {},
   "source": [
    "Find the weights for all the terms of the first row of the matrix. "
   ]
  },
  {
   "cell_type": "code",
   "execution_count": 3,
   "id": "bae7ea65",
   "metadata": {
    "collapsed": true
   },
   "outputs": [
    {
     "name": "stdout",
     "output_type": "stream",
     "text": [
      "[0.0, 0.8553289720961266, 0.008630967497480163, 0.008222547117059189, 0.008232945800540901, 0.019194058395458603, 0.018112830129730608, 0.016694420998019818, 0.010932487182805012, 0.01791123129984282, 0.008069310496499116, 0.007084621354339223, 0.008126624513785022, 0.013458983118312982]\n"
     ]
    }
   ],
   "source": [
    "numbers1 = [0.0, 9956.934911053675, 100.4736006793087, 95.7191549901448, 95.84020667664892, \n",
    "           223.43916359361458, 210.85252170837376, 194.34073751488654, 127.26572680959583,\n",
    "           208.5056978630198, 93.9353184702999, 82.47249420505865, 94.6025143191769,\n",
    "           156.6768147109505]\n",
    "sum_numbers = sum(numbers1)\n",
    "normalized_numbers = [num/sum_numbers for num in numbers1]\n",
    "# Print the normalized numbers\n",
    "print(normalized_numbers)"
   ]
  },
  {
   "cell_type": "markdown",
   "id": "1c755c89",
   "metadata": {},
   "source": [
    "Find the geodesic distance between the second observation center and all the other ones. "
   ]
  },
  {
   "cell_type": "code",
   "execution_count": 4,
   "id": "60e04c44",
   "metadata": {
    "collapsed": true
   },
   "outputs": [
    {
     "name": "stdout",
     "output_type": "stream",
     "text": [
      "270.76242559916284\n",
      "0.0\n",
      "191.3326003004605\n",
      "238.7691522071032\n",
      "186.61520986843448\n",
      "55.5102828980801\n",
      "63.28260471776538\n",
      "76.51584862619781\n",
      "159.76679328914707\n",
      "152.69113048391154\n",
      "177.21608320662125\n",
      "188.7608118372903\n",
      "178.47351479429864\n",
      "114.09910731765238\n"
     ]
    }
   ],
   "source": [
    "#2 horizontal\n",
    "distance14 = geodesic((lat2, lon2), (lat1, lon1)).km\n",
    "distance00 = geodesic((lat2, lon2), (lat2, lon2)).km\n",
    "distance15 = geodesic((lat2, lon2), (lat3, lon3)).km\n",
    "distance16 = geodesic((lat2, lon2), (lat4, lon4)).km\n",
    "distance17 = geodesic((lat2, lon2), (lat5, lon5)).km\n",
    "distance18 = geodesic((lat2, lon2), (lat6, lon6)).km\n",
    "distance19 = geodesic((lat2, lon2), (lat7, lon7)).km\n",
    "distance20 = geodesic((lat2, lon2), (lat8, lon8)).km\n",
    "distance21 = geodesic((lat2, lon2), (lat9, lon9)).km\n",
    "distance22 = geodesic((lat2, lon2), (lat10, lon10)).km\n",
    "distance23 = geodesic((lat2, lon2), (lat11, lon11)).km\n",
    "distance24 = geodesic((lat2, lon2), (lat12, lon12)).km\n",
    "distance25 = geodesic((lat2, lon2), (lat13, lon13)).km\n",
    "distance26 = geodesic((lat2, lon2), (lat14, lon14)).km\n",
    "print(distance14) \n",
    "print(distance00)\n",
    "print(distance15)\n",
    "print(distance16) \n",
    "print(distance17) \n",
    "print(distance18)\n",
    "print(distance19)\n",
    "print(distance20) \n",
    "print(distance21) \n",
    "print(distance22)\n",
    "print(distance23)\n",
    "print(distance24)\n",
    "print(distance25)\n",
    "print(distance26)"
   ]
  },
  {
   "cell_type": "markdown",
   "id": "da62d22b",
   "metadata": {},
   "source": [
    "Find the weights for all the terms of the second row of the matrix. "
   ]
  },
  {
   "cell_type": "code",
   "execution_count": 5,
   "id": "ea731a2f",
   "metadata": {},
   "outputs": [
    {
     "name": "stdout",
     "output_type": "stream",
     "text": [
      "[0.07661934116181204, 0.0, 0.07716117829499362, 0.07732877917693703, 0.07649807415586564, 0.07683080062790087, 0.07713998796944367, 0.07700070703407454, 0.07648322082966978, 0.07781076884570384, 0.07673995806331313, 0.0768252571185123, 0.07666446912306868, 0.07689745759870475]\n"
     ]
    }
   ],
   "source": [
    "numbers2 = [9956.934911053675, 0.0, 10027.348425261362,10049.128710072497,9941.175865533867,9984.414762854098,10024.59467289224\n",
    ",10006.494658107562,9939.245627034003,10111.764849811367, 9972.609473366641, 9983.694365610741, 9962.799437765696, 9993.077055032525]\n",
    "sum_numbers2 = sum(numbers2)\n",
    "normalized_numbers2 = [num/sum_numbers2 for num in numbers2]\n",
    "# Print the normalized numbers\n",
    "print(normalized_numbers2)"
   ]
  },
  {
   "cell_type": "markdown",
   "id": "ebf026e8",
   "metadata": {},
   "source": [
    "Find the geodesic distance between the third observation center and all the other ones."
   ]
  },
  {
   "cell_type": "code",
   "execution_count": 8,
   "id": "1708845e",
   "metadata": {},
   "outputs": [
    {
     "name": "stdout",
     "output_type": "stream",
     "text": [
      "100.4736006793087\n",
      "191.3326003004605\n",
      "0.0\n",
      "50.83712918421161\n",
      "89.15556796468202\n",
      "156.09875940722907\n",
      "128.06326157179305\n",
      "118.10337234535729\n",
      "103.5265242124802\n",
      "108.38461683792524\n",
      "58.61087172853582\n",
      "44.112112320861954\n",
      "68.4415646105079\n",
      "87.75236169870166\n"
     ]
    }
   ],
   "source": [
    "#3 horizontal\n",
    "distance27 = geodesic((lat3, lon3), (lat1, lon1)).km\n",
    "distance28 = geodesic((lat3, lon3), (lat2, lon2)).km\n",
    "distance29 = geodesic((lat3, lon3), (lat3, lon3)).km\n",
    "distance30 = geodesic((lat3, lon3), (lat4, lon4)).km\n",
    "distance31 = geodesic((lat3, lon3), (lat5, lon5)).km\n",
    "distance32 = geodesic((lat3, lon3), (lat6, lon6)).km\n",
    "distance33 = geodesic((lat3, lon3), (lat7, lon7)).km\n",
    "distance34 = geodesic((lat3, lon3), (lat8, lon8)).km\n",
    "distance35 = geodesic((lat3, lon3), (lat9, lon9)).km\n",
    "distance36 = geodesic((lat3, lon3), (lat10, lon10)).km\n",
    "distance37 = geodesic((lat3, lon3), (lat11, lon11)).km\n",
    "distance38 = geodesic((lat3, lon3), (lat12, lon12)).km\n",
    "distance39 = geodesic((lat3, lon3), (lat13, lon13)).km\n",
    "distance40 = geodesic((lat3, lon3), (lat14, lon14)).km\n",
    "print(distance27) \n",
    "print(distance28)\n",
    "print(distance29) \n",
    "print(distance30) \n",
    "print(distance31)\n",
    "print(distance32)\n",
    "print(distance33) \n",
    "print(distance34) \n",
    "print(distance35)\n",
    "print(distance36)\n",
    "print(distance37)\n",
    "print(distance38) \n",
    "print(distance39)\n",
    "print(distance40) "
   ]
  },
  {
   "cell_type": "markdown",
   "id": "79de9924",
   "metadata": {},
   "source": [
    "Find the weights for all the terms of the third row of the matrix. "
   ]
  },
  {
   "cell_type": "code",
   "execution_count": 9,
   "id": "8e755779",
   "metadata": {},
   "outputs": [
    {
     "name": "stdout",
     "output_type": "stream",
     "text": [
      "[0.009018438996696465, 0.900047668844649, 0.0, 0.004563104588819682, 0.008002540423246654, 0.014011313714807535, 0.011494867352166488, 0.010600874773069407, 0.009292467243512905, 0.00972852618523151, 0.005260870195287586, 0.003959471854212572, 0.0061432662023173336, 0.00787658962598283]\n"
     ]
    }
   ],
   "source": [
    "numbers3 = [100.4736006793087,10027.348425261362,0.0,50.83712918421161,89.15556796468202,156.09875940722907,128.06326157179305\n",
    ",118.10337234535729,103.5265242124802,108.38461683792524,58.61087172853582, 44.112112320861954,68.4415646105079,87.75236169870166]\n",
    "sum_numbers3 = sum(numbers3)\n",
    "normalized_numbers3 = [num/sum_numbers3 for num in numbers3]\n",
    "# Print the normalized numbers\n",
    "print(normalized_numbers3)"
   ]
  },
  {
   "cell_type": "markdown",
   "id": "d4538dff",
   "metadata": {},
   "source": [
    "Find the geodesic distance between the fourth observation center and all the other ones. "
   ]
  },
  {
   "cell_type": "code",
   "execution_count": 10,
   "id": "b27286a5",
   "metadata": {},
   "outputs": [
    {
     "name": "stdout",
     "output_type": "stream",
     "text": [
      "95.7191549901448\n",
      "238.7691522071032\n",
      "50.83712918421161\n",
      "0.0\n",
      "128.01443845187185\n",
      "206.42012882868718\n",
      "175.69021418737245\n",
      "167.69305959276235\n",
      "148.77618248073188\n",
      "129.99689413400142\n",
      "101.63012197846204\n",
      "83.75173947577503\n",
      "110.32062303778807\n",
      "138.56175316061604\n"
     ]
    }
   ],
   "source": [
    "# 4 horizontal\n",
    "distance41 = geodesic((lat4, lon4), (lat1, lon1)).km\n",
    "distance42 = geodesic((lat4, lon4), (lat2, lon2)).km\n",
    "distance43 = geodesic((lat4, lon4), (lat3, lon3)).km\n",
    "distance44 = geodesic((lat4, lon4), (lat4, lon4)).km\n",
    "distance45 = geodesic((lat4, lon4), (lat5, lon5)).km\n",
    "distance46 = geodesic((lat4, lon4), (lat6, lon6)).km\n",
    "distance47 = geodesic((lat4, lon4), (lat7, lon7)).km\n",
    "distance48 = geodesic((lat4, lon4), (lat8, lon8)).km\n",
    "distance49 = geodesic((lat4, lon4), (lat9, lon9)).km\n",
    "distance50 = geodesic((lat4, lon4), (lat10, lon10)).km\n",
    "distance51 = geodesic((lat4, lon4), (lat11, lon11)).km\n",
    "distance52 = geodesic((lat4, lon4), (lat12, lon12)).km\n",
    "distance53 = geodesic((lat4, lon4), (lat13, lon13)).km\n",
    "distance54 = geodesic((lat4, lon4), (lat14, lon14)).km\n",
    "print(distance41) \n",
    "print(distance42)\n",
    "print(distance43) \n",
    "print(distance44) \n",
    "print(distance45)\n",
    "print(distance46)\n",
    "print(distance47) \n",
    "print(distance48)\n",
    "print(distance49)\n",
    "print(distance50)\n",
    "print(distance51) \n",
    "print(distance52)\n",
    "print(distance53)\n",
    "print(distance54)"
   ]
  },
  {
   "cell_type": "markdown",
   "id": "57805b9b",
   "metadata": {},
   "source": [
    "Find the weights for all the terms of the fourth row of the matrix. "
   ]
  },
  {
   "cell_type": "code",
   "execution_count": 12,
   "id": "f103a8c8",
   "metadata": {},
   "outputs": [
    {
     "name": "stdout",
     "output_type": "stream",
     "text": [
      "[0.008261237069433231, 0.8673105672914077, 0.004387602211526164, 0.0, 0.011048547435152016, 0.017815510597981244, 0.015163302583801778, 0.01447309183137941, 0.012840432135920236, 0.011219647319719568, 0.00877139514181812, 0.0072283648435678746, 0.009521446576253001, 0.011958854962039682]\n"
     ]
    }
   ],
   "source": [
    "numbers4 = [95.7191549901448,10049.128710072497,50.83712918421161,0.0, 128.01443845187185, 206.42012882868718, 175.69021418737245\n",
    ",167.69305959276235, 148.77618248073188, 129.99689413400142, 101.63012197846204, 83.75173947577503, 110.32062303778807,138.56175316061604]\n",
    "sum_numbers4 = sum(numbers4)\n",
    "normalized_numbers4 = [num/sum_numbers4 for num in numbers4]\n",
    "# Print the normalized numbers\n",
    "print(normalized_numbers4)"
   ]
  },
  {
   "cell_type": "markdown",
   "id": "7963183a",
   "metadata": {},
   "source": [
    "Find the geodesic distance between the fifth observation center and all the other ones. "
   ]
  },
  {
   "cell_type": "code",
   "execution_count": 13,
   "id": "fa941929",
   "metadata": {},
   "outputs": [
    {
     "name": "stdout",
     "output_type": "stream",
     "text": [
      "95.84020667664892\n",
      "186.61520986843448\n",
      "89.15556796468202\n",
      "128.01443845187185\n",
      "0.0\n",
      "134.22813521488843\n",
      "134.34982252951008\n",
      "113.95231443901142\n",
      "31.553429609995046\n",
      "176.45221820638497\n",
      "31.492201979425154\n",
      "45.618156284779005\n",
      "21.623889598769832\n",
      "77.76473811957196\n"
     ]
    }
   ],
   "source": [
    "#5 horizontal\n",
    "distance55 = geodesic((lat5, lon5), (lat1, lon1)).km\n",
    "distance56 = geodesic((lat5, lon5), (lat2, lon2)).km\n",
    "distance57 = geodesic((lat5, lon5), (lat3, lon3)).km\n",
    "distance58 = geodesic((lat5, lon5), (lat4, lon4)).km\n",
    "distance59 = geodesic((lat5, lon5), (lat5, lon5)).km\n",
    "distance60 = geodesic((lat5, lon5), (lat6, lon6)).km\n",
    "distance61 = geodesic((lat5, lon5), (lat7, lon7)).km\n",
    "distance62 = geodesic((lat5, lon5), (lat8, lon8)).km\n",
    "distance63 = geodesic((lat5, lon5), (lat9, lon9)).km\n",
    "distance64 = geodesic((lat5, lon5), (lat10, lon10)).km\n",
    "distance65 = geodesic((lat5, lon5), (lat11, lon11)).km\n",
    "distance66 = geodesic((lat5, lon5), (lat12, lon12)).km\n",
    "distance67 = geodesic((lat5, lon5), (lat13, lon13)).km\n",
    "distance68 = geodesic((lat5, lon5), (lat14, lon14)).km\n",
    "print(distance55) \n",
    "print(distance56)\n",
    "print(distance57) \n",
    "print(distance58) \n",
    "print(distance59)\n",
    "print(distance61)\n",
    "print(distance60)\n",
    "print(distance62) \n",
    "print(distance63) \n",
    "print(distance64)\n",
    "print(distance65)\n",
    "print(distance66) \n",
    "print(distance67) \n",
    "print(distance68)"
   ]
  },
  {
   "cell_type": "markdown",
   "id": "c9f81cf5",
   "metadata": {},
   "source": [
    "Find the weights for all the terms of the fifth row of the matrix. "
   ]
  },
  {
   "cell_type": "code",
   "execution_count": 14,
   "id": "3e827f22",
   "metadata": {},
   "outputs": [
    {
     "name": "stdout",
     "output_type": "stream",
     "text": [
      "[0.008695969966529576, 0.9020031337195971, 0.008089445633036792, 0.011615268274779874, 0.0, 0.012179062138608001, 0.01219010332132193, 0.010339354831750512, 0.0028629704144448116, 0.016010224135129113, 0.002857414983639514, 0.004139120007527525, 0.0019620230488950844, 0.00705590952474019]\n"
     ]
    }
   ],
   "source": [
    "numbers5 = [95.84020667664892,9941.175865533867,89.15556796468202,128.01443845187185,0.0,134.22813521488843,134.34982252951008\n",
    ",113.95231443901142,31.553429609995046,176.45221820638497,31.492201979425154,45.618156284779005,21.623889598769832,77.76473811957196]\n",
    "sum_numbers5 = sum(numbers5)\n",
    "normalized_numbers5 = [num/sum_numbers5 for num in numbers5]\n",
    "# Print the normalized numbers\n",
    "print(normalized_numbers5)"
   ]
  },
  {
   "cell_type": "markdown",
   "id": "febf8959",
   "metadata": {},
   "source": [
    "Find the geodesic distance between the sixth observation center and all the other ones. "
   ]
  },
  {
   "cell_type": "code",
   "execution_count": 16,
   "id": "5ddbc99e",
   "metadata": {},
   "outputs": [
    {
     "name": "stdout",
     "output_type": "stream",
     "text": [
      "223.43916359361458\n",
      "55.5102828980801\n",
      "156.09875940722907\n",
      "206.42012882868718\n",
      "134.34982252951008\n",
      "0.0\n",
      "45.830753468201294\n",
      "40.399033764072925\n",
      "105.82934022553238\n",
      "151.51967040812428\n",
      "129.66384414071402\n",
      "143.73694601971948\n",
      "129.14307073932545\n",
      "69.8336827735826\n"
     ]
    }
   ],
   "source": [
    "# 6 horizontal\n",
    "distance69 = geodesic((lat6, lon6), (lat1, lon1)).km\n",
    "distance70 = geodesic((lat6, lon6), (lat2, lon2)).km\n",
    "distance71 = geodesic((lat6, lon6), (lat3, lon3)).km\n",
    "distance72 = geodesic((lat6, lon6), (lat4, lon4)).km\n",
    "distance73 = geodesic((lat6, lon6), (lat5, lon5)).km\n",
    "distance74 = geodesic((lat6, lon6), (lat6, lon6)).km\n",
    "distance75 = geodesic((lat6, lon6), (lat7, lon7)).km\n",
    "distance76 = geodesic((lat6, lon6), (lat8, lon8)).km\n",
    "distance77 = geodesic((lat6, lon6), (lat9, lon9)).km\n",
    "distance78 = geodesic((lat6, lon6), (lat10, lon10)).km\n",
    "distance79 = geodesic((lat6, lon6), (lat11, lon11)).km\n",
    "distance80 = geodesic((lat6, lon6), (lat12, lon12)).km\n",
    "distance81 = geodesic((lat6, lon6), (lat13, lon13)).km\n",
    "distance82 = geodesic((lat6, lon6), (lat14, lon14)).km\n",
    "print(distance69) \n",
    "print(distance70)\n",
    "print(distance71) \n",
    "print(distance72) \n",
    "print(distance73)\n",
    "print(distance74)\n",
    "print(distance75) \n",
    "print(distance76) \n",
    "print(distance77) \n",
    "print(distance78)\n",
    "print(distance79) \n",
    "print(distance80) \n",
    "print(distance81)\n",
    "print(distance82)"
   ]
  },
  {
   "cell_type": "markdown",
   "id": "7ca9d38c",
   "metadata": {},
   "source": [
    "Find the weights for all the terms of the sixth row of the matrix. "
   ]
  },
  {
   "cell_type": "code",
   "execution_count": 17,
   "id": "d8df73bb",
   "metadata": {},
   "outputs": [
    {
     "name": "stdout",
     "output_type": "stream",
     "text": [
      "[0.01939461762676518, 0.8666515906977666, 0.013549440939646181, 0.01791735792737458, 0.011661623657537153, 0.0, 0.00397812954885098, 0.003506653890676137, 0.009186033255567093, 0.013151974001495228, 0.011254878673370994, 0.012476430103192142, 0.011209675313191525, 0.006061594364566261]\n"
     ]
    }
   ],
   "source": [
    "numbers6 = [223.43916359361458,9984.414762854098,156.09875940722907,206.42012882868718,134.34982252951008,0.0,45.830753468201294\n",
    ",40.399033764072925,105.82934022553238,151.51967040812428,129.66384414071402,143.73694601971948,129.14307073932545,69.8336827735826\n",
    "]\n",
    "sum_numbers6 = sum(numbers6)\n",
    "normalized_numbers6 = [num/sum_numbers6 for num in numbers6]\n",
    "# Print the normalized numbers\n",
    "print(normalized_numbers6)"
   ]
  },
  {
   "cell_type": "markdown",
   "id": "689c4d64",
   "metadata": {},
   "source": [
    "Find the geodesic distance between the seventh observation center and all the other ones. "
   ]
  },
  {
   "cell_type": "code",
   "execution_count": 18,
   "id": "41776f8c",
   "metadata": {},
   "outputs": [
    {
     "name": "stdout",
     "output_type": "stream",
     "text": [
      "210.85252170837376\n",
      "63.28260471776538\n",
      "128.06326157179305\n",
      "175.69021418737245\n",
      "134.22813521488843\n",
      "45.830753468201294\n",
      "0.0\n",
      "21.598817698162367\n",
      "112.74155657243489\n",
      "105.85330388840413\n",
      "119.03358856094964\n",
      "128.3810311524363\n",
      "122.07434080610912\n",
      "56.79662013255907\n"
     ]
    }
   ],
   "source": [
    "# 7 horizontal\n",
    "distance83 = geodesic((lat7, lon7), (lat1, lon1)).km\n",
    "distance84 = geodesic((lat7, lon7), (lat2, lon2)).km\n",
    "distance85 = geodesic((lat7, lon7), (lat3, lon3)).km\n",
    "distance86 = geodesic((lat7, lon7), (lat4, lon4)).km\n",
    "distance87 = geodesic((lat7, lon7), (lat5, lon5)).km\n",
    "distance88 = geodesic((lat7, lon7), (lat6, lon6)).km\n",
    "distance89 = geodesic((lat7, lon7), (lat7, lon7)).km\n",
    "distance90 = geodesic((lat7, lon7), (lat8, lon8)).km\n",
    "distance91 = geodesic((lat7, lon7), (lat9, lon9)).km\n",
    "distance92 = geodesic((lat7, lon7), (lat10, lon10)).km\n",
    "distance93 = geodesic((lat7, lon7), (lat11, lon11)).km\n",
    "distance94 = geodesic((lat7, lon7), (lat12, lon12)).km\n",
    "distance95 = geodesic((lat7, lon7), (lat13, lon13)).km\n",
    "distance96 = geodesic((lat7, lon7), (lat14, lon14)).km\n",
    "print(distance83) \n",
    "print(distance84)\n",
    "print(distance85) \n",
    "print(distance86) \n",
    "print(distance87)\n",
    "print(distance88)\n",
    "print(distance89) \n",
    "print(distance90) \n",
    "print(distance91)\n",
    "print(distance92) \n",
    "print(distance93) \n",
    "print(distance94)\n",
    "print(distance95)\n",
    "print(distance96) "
   ]
  },
  {
   "cell_type": "markdown",
   "id": "055524bb",
   "metadata": {},
   "source": [
    "Find the weights for all the terms of the seventh row of the matrix. "
   ]
  },
  {
   "cell_type": "code",
   "execution_count": 19,
   "id": "76e74eed",
   "metadata": {},
   "outputs": [
    {
     "name": "stdout",
     "output_type": "stream",
     "text": [
      "[0.018519002155375008, 0.8804518383271465, 0.011247690081470833, 0.015430725840283058, 0.011789145822000227, 0.004025277076998666, 0.0, 0.0018970062499847054, 0.009901997435216532, 0.00929700791330432, 0.010454621387792034, 0.011275599520263241, 0.010721688136274906, 0.004988400053889919]\n"
     ]
    }
   ],
   "source": [
    "numbers7 = [210.85252170837376,10024.59467289224,128.06326157179305,175.69021418737245,134.22813521488843,45.830753468201294\n",
    ",0.0,21.598817698162367,112.74155657243489,105.85330388840413,119.03358856094964,128.3810311524363,122.07434080610912\n",
    ",56.79662013255907]\n",
    "sum_numbers7 = sum(numbers7)\n",
    "normalized_numbers7 = [num/sum_numbers7 for num in numbers7]\n",
    "# Print the normalized numbers\n",
    "print(normalized_numbers7)"
   ]
  },
  {
   "cell_type": "markdown",
   "id": "3914d16d",
   "metadata": {},
   "source": [
    "Find the geodesic distance between the eighth observation center and all the other ones. "
   ]
  },
  {
   "cell_type": "code",
   "execution_count": 20,
   "id": "b0e89d23",
   "metadata": {},
   "outputs": [
    {
     "name": "stdout",
     "output_type": "stream",
     "text": [
      "194.34073751488654\n",
      "76.51584862619781\n",
      "118.10337234535729\n",
      "167.69305959276235\n",
      "113.95231443901142\n",
      "40.399033764072925\n",
      "21.598817698162367\n",
      "0.0\n",
      "91.38490309441337\n",
      "115.80816365095437\n",
      "101.14100760700995\n",
      "112.24557898662685\n",
      "103.19907776865274\n",
      "37.91701948333646\n"
     ]
    }
   ],
   "source": [
    "# 8 horizontal\n",
    "distance97 = geodesic((lat8, lon8), (lat1, lon1)).km\n",
    "distance98 = geodesic((lat8, lon8), (lat2, lon2)).km\n",
    "distance99 = geodesic((lat8, lon8), (lat3, lon3)).km\n",
    "distance100 = geodesic((lat8, lon8), (lat4, lon4)).km\n",
    "distance101 = geodesic((lat8, lon8), (lat5, lon5)).km\n",
    "distance102 = geodesic((lat8, lon8), (lat6, lon6)).km\n",
    "distance103 = geodesic((lat8, lon8), (lat7, lon7)).km\n",
    "distance104 = geodesic((lat8, lon8), (lat8, lon8)).km\n",
    "distance105 = geodesic((lat8, lon8), (lat9, lon9)).km\n",
    "distance106 = geodesic((lat8, lon8), (lat10, lon10)).km\n",
    "distance107 = geodesic((lat8, lon8), (lat11, lon11)).km\n",
    "distance108 = geodesic((lat8, lon8), (lat12, lon12)).km\n",
    "distance109 = geodesic((lat8, lon8), (lat13, lon13)).km\n",
    "distance110 = geodesic((lat8, lon8), (lat14, lon14)).km\n",
    "print(distance97) \n",
    "print(distance98)\n",
    "print(distance99) \n",
    "print(distance100) \n",
    "print(distance101)\n",
    "print(distance102)\n",
    "print(distance103) \n",
    "print(distance104)\n",
    "print(distance105) \n",
    "print(distance106) \n",
    "print(distance107)\n",
    "print(distance108)\n",
    "print(distance109)\n",
    "print(distance110)"
   ]
  },
  {
   "cell_type": "markdown",
   "id": "30b1a6ca",
   "metadata": {},
   "source": [
    "Find the weights for all the terms of the eighth row of the matrix. "
   ]
  },
  {
   "cell_type": "code",
   "execution_count": 22,
   "id": "b15bc954",
   "metadata": {},
   "outputs": [
    {
     "name": "stdout",
     "output_type": "stream",
     "text": [
      "[0.01731432007888954, 0.8915045481130854, 0.010522135592014767, 0.01494020937619925, 0.010152307082688605, 0.003599254641170865, 0.0019242946575877913, 0.0, 0.008141717906333324, 0.01031764949974758, 0.009010914547316826, 0.010000249597004159, 0.009194273352985482, 0.0033781255549762937]\n"
     ]
    }
   ],
   "source": [
    "numbers8 = [194.34073751488654,10006.494658107562,118.10337234535729,167.69305959276235,113.95231443901142,40.399033764072925,21.598817698162367\n",
    ",0.0,91.38490309441337,115.80816365095437,101.14100760700995,112.24557898662685,103.19907776865274,37.91701948333646]\n",
    "sum_numbers8 = sum(numbers8)\n",
    "normalized_numbers8 = [num/sum_numbers8 for num in numbers8]\n",
    "# Print the normalized numbers\n",
    "print(normalized_numbers8)"
   ]
  },
  {
   "cell_type": "markdown",
   "id": "9caa54ef",
   "metadata": {},
   "source": [
    "Find the geodesic distance between the ninth observation center and all the other ones. "
   ]
  },
  {
   "cell_type": "code",
   "execution_count": 23,
   "id": "72eb1b65",
   "metadata": {},
   "outputs": [
    {
     "name": "stdout",
     "output_type": "stream",
     "text": [
      "127.26572680959583\n",
      "159.76679328914707\n",
      "103.5265242124802\n",
      "148.77618248073188\n",
      "31.553429609995046\n",
      "105.82934022553238\n",
      "112.74155657243489\n",
      "91.38490309441337\n",
      "0.0\n",
      "173.05537268318727\n",
      "47.220160017806585\n",
      "65.43708369308285\n",
      "39.422254606843524\n",
      "59.96288146987857\n"
     ]
    }
   ],
   "source": [
    "#  9 horizontal \n",
    "distance111 = geodesic((lat9, lon9), (lat1, lon1)).km\n",
    "distance112 = geodesic((lat9, lon9), (lat2, lon2)).km\n",
    "distance113 = geodesic((lat9, lon9), (lat3, lon3)).km\n",
    "distance114 = geodesic((lat9, lon9), (lat4, lon4)).km\n",
    "distance115 = geodesic((lat9, lon9), (lat5, lon5)).km\n",
    "distance116 = geodesic((lat9, lon9), (lat6, lon6)).km\n",
    "distance117 = geodesic((lat9, lon9), (lat7, lon7)).km\n",
    "distance118 = geodesic((lat9, lon9), (lat8, lon8)).km\n",
    "distance119 = geodesic((lat9, lon9), (lat9, lon9)).km\n",
    "distance120 = geodesic((lat9, lon9), (lat10, lon10)).km\n",
    "distance121 = geodesic((lat9, lon9), (lat11, lon11)).km\n",
    "distance122 = geodesic((lat9, lon9), (lat12, lon12)).km\n",
    "distance123 = geodesic((lat9, lon9), (lat13, lon13)).km\n",
    "distance124 = geodesic((lat9, lon9), (lat14, lon14)).km\n",
    "print(distance111) \n",
    "print(distance112)\n",
    "print(distance113) \n",
    "print(distance114) \n",
    "print(distance115)\n",
    "print(distance116) \n",
    "print(distance117)\n",
    "print(distance118) \n",
    "print(distance119) \n",
    "print(distance120)\n",
    "print(distance121) \n",
    "print(distance122)\n",
    "print(distance123) \n",
    "print(distance124) "
   ]
  },
  {
   "cell_type": "markdown",
   "id": "dad4a38d",
   "metadata": {},
   "source": [
    "Find the weights for all the terms of the ninth row of the matrix. "
   ]
  },
  {
   "cell_type": "code",
   "execution_count": 24,
   "id": "cf1142eb",
   "metadata": {},
   "outputs": [
    {
     "name": "stdout",
     "output_type": "stream",
     "text": [
      "[0.011522034906572986, 0.8998521277533288, 0.009372800168870212, 0.013469489475153917, 0.0028566977653958926, 0.00958128620160626, 0.010207085464513469, 0.0082735554165572, 0.0, 0.015667612127881526, 0.004275089182754791, 0.005924362995420298, 0.003569103835437415, 0.0054287547065070925]\n"
     ]
    }
   ],
   "source": [
    "numbers9 = [127.26572680959583,9939.245627034003,103.5265242124802,148.77618248073188,31.553429609995046,105.82934022553238\n",
    ",112.74155657243489,91.38490309441337,0.0,173.05537268318727,47.220160017806585,65.43708369308285,39.422254606843524\n",
    ",59.96288146987857]\n",
    "sum_numbers9 = sum(numbers9)\n",
    "normalized_numbers9 = [num/sum_numbers9 for num in numbers9]\n",
    "# Print the normalized numbers\n",
    "print(normalized_numbers9)"
   ]
  },
  {
   "cell_type": "markdown",
   "id": "548744d0",
   "metadata": {},
   "source": [
    "Find the geodesic distance between the tenth observation center and all the other ones. "
   ]
  },
  {
   "cell_type": "code",
   "execution_count": 25,
   "id": "e6363d72",
   "metadata": {},
   "outputs": [
    {
     "name": "stdout",
     "output_type": "stream",
     "text": [
      "208.5056978630198\n",
      "152.69113048391154\n",
      "108.38461683792524\n",
      "129.99689413400142\n",
      "176.45221820638497\n",
      "151.51967040812428\n",
      "105.85330388840413\n",
      "115.80816365095437\n",
      "173.05537268318727\n",
      "0.0\n",
      "146.88762707606767\n",
      "142.13143661630096\n",
      "155.67945656334035\n",
      "119.37640602691579\n"
     ]
    }
   ],
   "source": [
    "# 10 horizontal \n",
    "distance125 = geodesic((lat10, lon10), (lat1, lon1)).km\n",
    "distance126 = geodesic((lat10, lon10), (lat2, lon2)).km\n",
    "distance127 = geodesic((lat10, lon10), (lat3, lon3)).km\n",
    "distance128 = geodesic((lat10, lon10), (lat4, lon4)).km\n",
    "distance129 = geodesic((lat10, lon10), (lat5, lon5)).km\n",
    "distance130 = geodesic((lat10, lon10), (lat6, lon6)).km\n",
    "distance131 = geodesic((lat10, lon10), (lat7, lon7)).km\n",
    "distance132 = geodesic((lat10, lon10), (lat8, lon8)).km\n",
    "distance133 = geodesic((lat10, lon10), (lat9, lon9)).km\n",
    "distance134 = geodesic((lat10, lon10), (lat10, lon10)).km\n",
    "distance135 = geodesic((lat10, lon10), (lat11, lon11)).km\n",
    "distance136 = geodesic((lat10, lon10), (lat12, lon12)).km\n",
    "distance137 = geodesic((lat10, lon10), (lat13, lon13)).km\n",
    "distance138 = geodesic((lat10, lon10), (lat14, lon14)).km\n",
    "print(distance125) \n",
    "print(distance126)\n",
    "print(distance127) \n",
    "print(distance128) \n",
    "print(distance129) \n",
    "print(distance130)\n",
    "print(distance131) \n",
    "print(distance132) \n",
    "print(distance133) \n",
    "print(distance134)\n",
    "print(distance135) \n",
    "print(distance136) \n",
    "print(distance137)\n",
    "print(distance138) "
   ]
  },
  {
   "cell_type": "markdown",
   "id": "b2415bc2",
   "metadata": {},
   "source": [
    "Find the weights for all the terms of the tenth row of the matrix. "
   ]
  },
  {
   "cell_type": "code",
   "execution_count": 26,
   "id": "10bb61ee",
   "metadata": {},
   "outputs": [
    {
     "name": "stdout",
     "output_type": "stream",
     "text": [
      "[0.01760222713169177, 0.8536437297055023, 0.009149920902477697, 0.01097444760701199, 0.014896245304529359, 0.01279141855967433, 0.008936225325160021, 0.009776622994866228, 0.014609480736254217, 0.0, 0.012400377549043226, 0.011998855933027727, 0.01314259122053602, 0.010077857030225125]\n"
     ]
    }
   ],
   "source": [
    "numbers10 = [208.5056978630198,10111.764849811367,108.38461683792524,129.99689413400142,176.45221820638497,151.51967040812428\n",
    ",105.85330388840413,115.80816365095437,173.05537268318727,0.0,146.88762707606767,142.13143661630096,155.67945656334035,119.37640602691579]\n",
    "sum_numbers10 = sum(numbers10)\n",
    "normalized_numbers10 = [num/sum_numbers10 for num in numbers10]\n",
    "# Print the normalized numbers\n",
    "print(normalized_numbers10)"
   ]
  },
  {
   "cell_type": "markdown",
   "id": "63236fb2",
   "metadata": {},
   "source": [
    "Find the geodesic distance between the eleventh observation center and all the other ones. "
   ]
  },
  {
   "cell_type": "code",
   "execution_count": 27,
   "id": "07df9579",
   "metadata": {},
   "outputs": [
    {
     "name": "stdout",
     "output_type": "stream",
     "text": [
      "93.9353184702999\n",
      "177.21608320662125\n",
      "58.61087172853582\n",
      "101.63012197846204\n",
      "31.492201979425154\n",
      "129.66384414071402\n",
      "119.03358856094964\n",
      "101.14100760700995\n",
      "47.220160017806585\n",
      "146.88762707606767\n",
      "0.0\n",
      "18.338224366695794\n",
      "9.974357993377154\n",
      "63.2361598641659\n"
     ]
    }
   ],
   "source": [
    "# 11 horizontal\n",
    "distance139 = geodesic((lat11, lon11), (lat1, lon1)).km\n",
    "distance140 = geodesic((lat11, lon11), (lat2, lon2)).km\n",
    "distance141 = geodesic((lat11, lon11), (lat3, lon3)).km\n",
    "distance142 = geodesic((lat11, lon11), (lat4, lon4)).km\n",
    "distance143 = geodesic((lat11, lon11), (lat5, lon5)).km\n",
    "distance144 = geodesic((lat11, lon11), (lat6, lon6)).km\n",
    "distance145 = geodesic((lat11, lon11), (lat7, lon7)).km\n",
    "distance146 = geodesic((lat11, lon11), (lat8, lon8)).km\n",
    "distance147 = geodesic((lat11, lon11), (lat9, lon9)).km\n",
    "distance148 = geodesic((lat11, lon11), (lat10, lon10)).km\n",
    "distance149 = geodesic((lat11, lon11), (lat11, lon11)).km\n",
    "distance150 = geodesic((lat11, lon11), (lat12, lon12)).km\n",
    "distance151 = geodesic((lat11, lon11), (lat13, lon13)).km\n",
    "distance152 = geodesic((lat11, lon11), (lat14, lon14)).km\n",
    "print(distance139) \n",
    "print(distance140)\n",
    "print(distance141) \n",
    "print(distance142) \n",
    "print(distance143)\n",
    "print(distance144)\n",
    "print(distance145) \n",
    "print(distance146)\n",
    "print(distance147)\n",
    "print(distance148) \n",
    "print(distance149)\n",
    "print(distance150)\n",
    "print(distance151) \n",
    "print(distance152)"
   ]
  },
  {
   "cell_type": "markdown",
   "id": "2ac46122",
   "metadata": {},
   "source": [
    "Find the weights for all the terms of the eleventh row of the matrix. "
   ]
  },
  {
   "cell_type": "code",
   "execution_count": 28,
   "id": "9b440850",
   "metadata": {},
   "outputs": [
    {
     "name": "stdout",
     "output_type": "stream",
     "text": [
      "[0.008622845256623901, 0.9154412812340741, 0.005380217850975723, 0.009329194061434603, 0.0028908443478028595, 0.011902565314215484, 0.01092675503970566, 0.009284295533314365, 0.004334601079308665, 0.013483632131295492, 0.0, 0.001683367593470861, 0.0009156017876093576, 0.005804798770169037]\n"
     ]
    }
   ],
   "source": [
    "numbers11 = [93.9353184702999,9972.609473366641,58.61087172853582,101.63012197846204,31.492201979425154,129.66384414071402\n",
    ",119.03358856094964,101.14100760700995,47.220160017806585,146.88762707606767,0.0,18.338224366695794,9.974357993377154\n",
    ",63.2361598641659]\n",
    "sum_numbers11 = sum(numbers11)\n",
    "normalized_numbers11 = [num/sum_numbers11 for num in numbers11]\n",
    "# Print the normalized numbers\n",
    "print(normalized_numbers11)"
   ]
  },
  {
   "cell_type": "markdown",
   "id": "c3134f21",
   "metadata": {},
   "source": [
    "Find the geodesic distance between the twelfth observation center and all the other ones. "
   ]
  },
  {
   "cell_type": "code",
   "execution_count": 29,
   "id": "c13c38ec",
   "metadata": {},
   "outputs": [
    {
     "name": "stdout",
     "output_type": "stream",
     "text": [
      "82.47249420505865\n",
      "188.7608118372903\n",
      "44.112112320861954\n",
      "83.75173947577503\n",
      "45.618156284779005\n",
      "143.73694601971948\n",
      "128.3810311524363\n",
      "112.24557898662685\n",
      "65.43708369308285\n",
      "142.13143661630096\n",
      "18.338224366695794\n",
      "0.0\n",
      "26.56957796847284\n",
      "75.03051343095704\n"
     ]
    }
   ],
   "source": [
    "# 12 horizontal\n",
    "distance153 = geodesic((lat12, lon12), (lat1, lon1)).km\n",
    "distance154 = geodesic((lat12, lon12), (lat2, lon2)).km\n",
    "distance155 = geodesic((lat12, lon12), (lat3, lon3)).km\n",
    "distance156 = geodesic((lat12, lon12), (lat4, lon4)).km\n",
    "distance157 = geodesic((lat12, lon12), (lat5, lon5)).km\n",
    "distance158 = geodesic((lat12, lon12), (lat6, lon6)).km\n",
    "distance159 = geodesic((lat12, lon12), (lat7, lon7)).km\n",
    "distance160 = geodesic((lat12, lon12), (lat8, lon8)).km\n",
    "distance161 = geodesic((lat12, lon12), (lat9, lon9)).km\n",
    "distance162 = geodesic((lat12, lon12), (lat10, lon10)).km\n",
    "distance163 = geodesic((lat12, lon12), (lat11, lon11)).km\n",
    "distance164 = geodesic((lat12, lon12), (lat12, lon12)).km\n",
    "distance165 = geodesic((lat12, lon12), (lat13, lon13)).km\n",
    "distance166 = geodesic((lat12, lon12), (lat14, lon14)).km\n",
    "print(distance153) \n",
    "print(distance154)\n",
    "print(distance155) \n",
    "print(distance156)\n",
    "print(distance157) \n",
    "print(distance158)\n",
    "print(distance159) \n",
    "print(distance160)\n",
    "print(distance161) \n",
    "print(distance162)\n",
    "print(distance163) \n",
    "print(distance164)\n",
    "print(distance165) \n",
    "print(distance166)"
   ]
  },
  {
   "cell_type": "markdown",
   "id": "34501166",
   "metadata": {},
   "source": [
    "Find the weights for all the terms of the twelfth row of the matrix. "
   ]
  },
  {
   "cell_type": "code",
   "execution_count": 30,
   "id": "0ae66f95",
   "metadata": {},
   "outputs": [
    {
     "name": "stdout",
     "output_type": "stream",
     "text": [
      "[0.007530689783407122, 0.9116264262946526, 0.004027944550255237, 0.007647499628719946, 0.004165463731671438, 0.013124840728079358, 0.011722668618207288, 0.010249315763453172, 0.005975160353440961, 0.012978239205013667, 0.0016744913587884783, 0.0, 0.002426108865570656, 0.006851151118740404]\n"
     ]
    }
   ],
   "source": [
    "numbers12 = [82.47249420505865,9983.694365610741,44.112112320861954,83.75173947577503,45.618156284779005,143.73694601971948\n",
    ",128.3810311524363,112.24557898662685,65.43708369308285,142.13143661630096,18.338224366695794,0.0,26.56957796847284,75.03051343095704\n",
    "]\n",
    "sum_numbers12 = sum(numbers12)\n",
    "normalized_numbers12 = [num/sum_numbers12 for num in numbers12]\n",
    "# Print the normalized numbers\n",
    "print(normalized_numbers12)"
   ]
  },
  {
   "cell_type": "markdown",
   "id": "3ad1aa1f",
   "metadata": {},
   "source": [
    "Find the geodesic distance between the thirteenth observation center and all the other ones. "
   ]
  },
  {
   "cell_type": "code",
   "execution_count": 31,
   "id": "bff55b2d",
   "metadata": {},
   "outputs": [
    {
     "name": "stdout",
     "output_type": "stream",
     "text": [
      "94.6025143191769\n",
      "178.47351479429864\n",
      "68.4415646105079\n",
      "110.32062303778807\n",
      "21.623889598769832\n",
      "129.14307073932545\n",
      "122.07434080610912\n",
      "103.19907776865274\n",
      "39.422254606843524\n",
      "155.67945656334035\n",
      "9.974357993377154\n",
      "26.56957796847284\n",
      "0.0\n",
      "65.45274180917161\n"
     ]
    }
   ],
   "source": [
    "# 13 horizontal\n",
    "distance167 = geodesic((lat13, lon13), (lat1, lon1)).km\n",
    "distance168 = geodesic((lat13, lon13), (lat2, lon2)).km\n",
    "distance169 = geodesic((lat13, lon13), (lat3, lon3)).km\n",
    "distance170 = geodesic((lat13, lon13), (lat4, lon4)).km\n",
    "distance171= geodesic((lat13, lon13), (lat5, lon5)).km\n",
    "distance172 = geodesic((lat13, lon13), (lat6, lon6)).km\n",
    "distance173 = geodesic((lat13, lon13), (lat7, lon7)).km\n",
    "distance174= geodesic((lat13, lon13), (lat8, lon8)).km\n",
    "distance175 = geodesic((lat13, lon13), (lat9, lon9)).km\n",
    "distance176 = geodesic((lat13, lon13), (lat10, lon10)).km\n",
    "distance177 = geodesic((lat13, lon13), (lat11, lon11)).km\n",
    "distance178 = geodesic((lat13, lon13), (lat12, lon12)).km\n",
    "distance179= geodesic((lat13, lon13), (lat13, lon13)).km\n",
    "distance180 = geodesic((lat13, lon13), (lat14, lon14)).km\n",
    "print(distance167)\n",
    "print(distance168)\n",
    "print(distance169)\n",
    "print(distance170)\n",
    "print(distance171)\n",
    "print(distance172)\n",
    "print(distance173)\n",
    "print(distance174)\n",
    "print(distance175)\n",
    "print(distance176)\n",
    "print(distance177)\n",
    "print(distance178)\n",
    "print(distance179)\n",
    "print(distance180)"
   ]
  },
  {
   "cell_type": "markdown",
   "id": "74b14c2c",
   "metadata": {},
   "source": [
    "Find the weights for all the terms of the thirteenth row of the matrix. "
   ]
  },
  {
   "cell_type": "code",
   "execution_count": 32,
   "id": "20a0d2d2",
   "metadata": {},
   "outputs": [
    {
     "name": "stdout",
     "output_type": "stream",
     "text": [
      "[0.008671728626526862, 0.9132388679790662, 0.00627368817148784, 0.01011252725974471, 0.001982151360352346, 0.011837884769842509, 0.011189930451120626, 0.009459731629312408, 0.0036136364477904483, 0.014270339533341586, 0.0009142983816537134, 0.002435497317614507, 0.0, 0.005999718072146514]\n"
     ]
    }
   ],
   "source": [
    "numbers13 = [94.6025143191769,9962.799437765696,68.4415646105079,110.32062303778807,21.623889598769832,129.14307073932545\n",
    ",122.07434080610912,103.19907776865274,39.422254606843524,155.67945656334035,9.974357993377154,26.56957796847284,0.0,\n",
    "65.45274180917161]\n",
    "sum_numbers13 = sum(numbers13)\n",
    "normalized_numbers13 = [num/sum_numbers13 for num in numbers13]\n",
    "# Print the normalized numbers\n",
    "print(normalized_numbers13)"
   ]
  },
  {
   "cell_type": "markdown",
   "id": "c4c9af85",
   "metadata": {},
   "source": [
    "Find the geodesic distance between the fourteenth observation center and all the other ones. "
   ]
  },
  {
   "cell_type": "code",
   "execution_count": 33,
   "id": "3e3375dc",
   "metadata": {},
   "outputs": [
    {
     "name": "stdout",
     "output_type": "stream",
     "text": [
      "156.6768147109505\n",
      "114.09910731765238\n",
      "87.75236169870166\n",
      "138.56175316061604\n",
      "77.76473811957196\n",
      "69.8336827735826\n",
      "56.79662013255907\n",
      "37.91701948333646\n",
      "59.96288146987857\n",
      "119.37640602691579\n",
      "63.2361598641659\n",
      "75.03051343095704\n",
      "65.45274180917161\n",
      "0.0\n"
     ]
    }
   ],
   "source": [
    "# 14 horizontal\n",
    "distance181 = geodesic((lat14, lon14), (lat1, lon1)).km\n",
    "distance182 = geodesic((lat14, lon14), (lat2, lon2)).km\n",
    "distance183 = geodesic((lat14, lon14), (lat3, lon3)).km\n",
    "distance184 = geodesic((lat14, lon14), (lat4, lon4)).km\n",
    "distance185 = geodesic((lat14, lon14), (lat5, lon5)).km\n",
    "distance186 = geodesic((lat14, lon14), (lat6, lon6)).km\n",
    "distance187 = geodesic((lat14, lon14), (lat7, lon7)).km\n",
    "distance188 = geodesic((lat14, lon14), (lat8, lon8)).km\n",
    "distance189 = geodesic((lat14, lon14), (lat9, lon9)).km\n",
    "distance190 = geodesic((lat14, lon14), (lat10, lon10)).km\n",
    "distance191 = geodesic((lat14, lon14), (lat11, lon11)).km\n",
    "distance192 = geodesic((lat14, lon14), (lat12, lon12)).km\n",
    "distance193 = geodesic((lat14, lon14), (lat13, lon13)).km\n",
    "distance194 = geodesic((lat14, lon14), (lat14, lon14)).km\n",
    "print(distance181)\n",
    "print(distance182)\n",
    "print(distance183)\n",
    "print(distance184)\n",
    "print(distance185)\n",
    "print(distance186)\n",
    "print(distance187)\n",
    "print(distance188)\n",
    "print(distance189)\n",
    "print(distance190)\n",
    "print(distance191)\n",
    "print(distance192)\n",
    "print(distance193)\n",
    "print(distance194)"
   ]
  },
  {
   "cell_type": "markdown",
   "id": "73c0fc44",
   "metadata": {},
   "source": [
    "Find the weights for all the terms of the fourteenth row of the matrix. "
   ]
  },
  {
   "cell_type": "code",
   "execution_count": 34,
   "id": "d7e40fe9",
   "metadata": {},
   "outputs": [
    {
     "name": "stdout",
     "output_type": "stream",
     "text": [
      "[0.014241484073482821, 0.9083427435443358, 0.007976444146175366, 0.012594875664732613, 0.0070685971083317015, 0.006347686368576127, 0.005162653852376028, 0.00344655097872712, 0.005450458148698427, 0.010850981291127283, 0.005747989996064101, 0.006820063734532449, 0.0059494710928403305, 0.0]\n"
     ]
    }
   ],
   "source": [
    "numbers14 = [156.6768147109505,9993.077055032525,87.75236169870166,138.56175316061604,77.76473811957196,69.8336827735826\n",
    ",56.79662013255907,37.91701948333646,59.96288146987857,119.37640602691579,63.2361598641659,75.03051343095704,65.45274180917161\n",
    ",0.0]\n",
    "sum_numbers14 = sum(numbers14)\n",
    "normalized_numbers14 = [num/sum_numbers14 for num in numbers14]\n",
    "# Print the normalized numbers\n",
    "print(normalized_numbers14)"
   ]
  }
 ],
 "metadata": {
  "kernelspec": {
   "display_name": "Python 3 (ipykernel)",
   "language": "python",
   "name": "python3"
  },
  "language_info": {
   "codemirror_mode": {
    "name": "ipython",
    "version": 3
   },
   "file_extension": ".py",
   "mimetype": "text/x-python",
   "name": "python",
   "nbconvert_exporter": "python",
   "pygments_lexer": "ipython3",
   "version": "3.9.13"
  }
 },
 "nbformat": 4,
 "nbformat_minor": 5
}
